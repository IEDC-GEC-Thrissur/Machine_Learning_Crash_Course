{
 "cells": [
  {
   "cell_type": "markdown",
   "metadata": {
    "id": "CCWmp6QnjmwA"
   },
   "source": [
    "# **ML CRASH COURSE TASK**\n",
    "\n",
    "> README\n",
    "\n",
    " * Use **COPY TO DRIVE** button to generate your own copy of the task file.\n",
    " * Don't **EDIT or RUN CELLS** in the original task file.\n",
    " * Submit the task before the deadline **11:59 PM, 04 - OCT - 2021**\n",
    " * Provide your details in the **TEXT** cell bellow. \n",
    "\n",
    "\n"
   ]
  },
  {
   "cell_type": "markdown",
   "metadata": {
    "id": "RvT7y2D7kzEG"
   },
   "source": [
    "**NAME :**\n",
    "<br>\n",
    "**COLLEGE :**\n",
    "<br>\n",
    "**BRANCH/YEAR :**"
   ]
  },
  {
   "cell_type": "markdown",
   "metadata": {
    "id": "lrqK9A6-lOOC"
   },
   "source": [
    "### **TASK  : BUILD A LINEAR REGRESSION MODEL** "
   ]
  },
  {
   "cell_type": "markdown",
   "metadata": {
    "id": "hFpzQvOjlo_l"
   },
   "source": [
    "**DOWNLOAD DATA:**\n",
    "<br>\n",
    " The data download coloum is filled for you"
   ]
  },
  {
   "cell_type": "code",
   "execution_count": null,
   "metadata": {
    "id": "XEDkh31alMxK"
   },
   "outputs": [],
   "source": [
    "# download the data\n",
    "!wget --no-check-certificate 'https://docs.google.com/uc?export=download&id=1NhAgeN3EYWYVTSmB9Xmqo36PVeIjuSen' -O House_Dataset.csv\n",
    "\n",
    "# the dowloaded data will be available at the path - '/content/House_Dataset.csv'"
   ]
  },
  {
   "cell_type": "markdown",
   "metadata": {
    "id": "EhA-8K5YtbXm"
   },
   "source": [
    "> **DATA**\n",
    "\n",
    "**HOUSE PRICE PREDICTION**\n",
    "<br><br>\n",
    "**No. of columns : 3**<br>\n",
    "**No. of rows    : 48**<br>\n",
    "**Column headings : ['size(in square feet)', 'number of bedrooms', 'price']**"
   ]
  },
  {
   "cell_type": "code",
   "execution_count": null,
   "metadata": {
    "id": "94o3ol_Mzcks"
   },
   "outputs": [],
   "source": [
    "# import required libraries like pandas, numpy, sklearn"
   ]
  },
  {
   "cell_type": "code",
   "execution_count": null,
   "metadata": {
    "id": "CW0k6Krljl8w"
   },
   "outputs": [],
   "source": [
    "# loading the data\n",
    "home_data = # type your code here"
   ]
  },
  {
   "cell_type": "code",
   "execution_count": null,
   "metadata": {
    "id": "J9-PAJoQvgRc"
   },
   "outputs": [],
   "source": [
    "# check the data set if its loaded by printng first few rows! "
   ]
  },
  {
   "cell_type": "code",
   "execution_count": null,
   "metadata": {
    "id": "9G8efsoDvsg5"
   },
   "outputs": [],
   "source": [
    "# define the feature --> x and target --> y\n",
    "x = # type your code here\n",
    "y = # type your code here"
   ]
  },
  {
   "cell_type": "code",
   "execution_count": null,
   "metadata": {
    "id": "O-35g83hv6VC"
   },
   "outputs": [],
   "source": [
    "# visualise the data (optional)\n",
    "# import matplotllib.pyplot as plt\n",
    "\n",
    "# uncomment the above code and try visualing \n",
    "# type your code here"
   ]
  },
  {
   "cell_type": "code",
   "execution_count": null,
   "metadata": {
    "id": "2CvZN91owIVj"
   },
   "outputs": [],
   "source": [
    "# reshape the data if necessary\n",
    "x = # type code here\n",
    "y = # type code here"
   ]
  },
  {
   "cell_type": "code",
   "execution_count": null,
   "metadata": {
    "id": "rpLbb6kCwQKo"
   },
   "outputs": [],
   "source": [
    "# train test split\n",
    "\n",
    "# from sklearn.mode_selection import train_test_split \n",
    "\n",
    "# uncomment above code, set test_size = 0.2, random_state = 1\n",
    "\n",
    "X_train,X_test,y_train,y_test = # type your code here"
   ]
  },
  {
   "cell_type": "code",
   "execution_count": null,
   "metadata": {
    "id": "uR0Dpe-Gwtbm"
   },
   "outputs": [],
   "source": [
    "# building model\n",
    "\n",
    "# import model from sklearn\n",
    "\n",
    "model = # type your code here"
   ]
  },
  {
   "cell_type": "code",
   "execution_count": null,
   "metadata": {
    "id": "8gzWDqm4xwVY"
   },
   "outputs": [],
   "source": [
    "# training the model --> use fit() method"
   ]
  },
  {
   "cell_type": "code",
   "execution_count": null,
   "metadata": {
    "id": "Ud2RoUDWxzmo"
   },
   "outputs": [],
   "source": [
    "# making prediction\n",
    "\n",
    "y_pred = # type your code here"
   ]
  },
  {
   "cell_type": "code",
   "execution_count": null,
   "metadata": {
    "id": "YNN24dP5x4pZ"
   },
   "outputs": [],
   "source": [
    "# print the accuracy of predition of the model \n",
    "# for both training and test data\n",
    "\n",
    "print(# type your code here) # --> score on X_train,y_train\n",
    "\n",
    "print(# type your code here) # --> score on X_test,y_test"
   ]
  },
  {
   "cell_type": "code",
   "execution_count": null,
   "metadata": {
    "id": "wNSmrg_SyR5x"
   },
   "outputs": [],
   "source": [
    "# visualing the bestfit line (optional)\n",
    "\n",
    "# import matplotlib.pyplot as plt   \n",
    "# uncomment the above line \n",
    "\n",
    "# type your code here --> to plot the best fit line along with training data points"
   ]
  }
 ],
 "metadata": {
  "colab": {
   "collapsed_sections": [],
   "name": "ML Crash course TASK.ipynb",
   "provenance": []
  },
  "kernelspec": {
   "display_name": "Python 3 (ipykernel)",
   "language": "python",
   "name": "python3"
  },
  "language_info": {
   "codemirror_mode": {
    "name": "ipython",
    "version": 3
   },
   "file_extension": ".py",
   "mimetype": "text/x-python",
   "name": "python",
   "nbconvert_exporter": "python",
   "pygments_lexer": "ipython3",
   "version": "3.8.10"
  }
 },
 "nbformat": 4,
 "nbformat_minor": 1
}
